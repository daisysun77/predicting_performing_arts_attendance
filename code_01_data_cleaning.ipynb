{
 "cells": [
  {
   "cell_type": "markdown",
   "id": "ae10491c",
   "metadata": {},
   "source": [
    "# Predicting Performing Arts Attendance with Machine Learning\n",
    "\n",
    "## - Data Cleaning\n",
    "\n",
    "August 8, 2025\n",
    "\n",
    "---"
   ]
  },
  {
   "cell_type": "code",
   "execution_count": null,
   "id": "01ba5b59",
   "metadata": {},
   "outputs": [],
   "source": [
    "import pandas as pd\n",
    "import numpy as np\n",
    "from scipy import stats\n",
    "import matplotlib.pyplot as plt"
   ]
  },
  {
   "cell_type": "markdown",
   "id": "66c24c47",
   "metadata": {},
   "source": [
    "## Load data"
   ]
  },
  {
   "cell_type": "code",
   "execution_count": null,
   "id": "49f98261",
   "metadata": {},
   "outputs": [],
   "source": [
    "data_fname = 'data/cps_00020.csv'\n",
    "data = pd.read_csv(data_fname)"
   ]
  },
  {
   "cell_type": "markdown",
   "id": "b417b140",
   "metadata": {},
   "source": [
    "## Select variables and PPA data"
   ]
  },
  {
   "cell_type": "code",
   "execution_count": null,
   "id": "5a57f588",
   "metadata": {},
   "outputs": [],
   "source": [
    "# Select variables of interest\n",
    "data_selected = data[[\n",
    "\n",
    "    # geographics\n",
    "    'REGION',     # Region and division (nine dividions)\n",
    "    'STATEFIP',   # State (FIPS code)\n",
    "    'METRO',      # Metropolitan and central/principal city status\n",
    "    \n",
    "    # income\n",
    "    'FAMINC',     # Family income of householder (in $500 intervals)\n",
    "    \n",
    "    # demographics\n",
    "    'AGE',\n",
    "    'SEX',\n",
    "    'RACE',\n",
    "    'HISPAN',\n",
    "    'VETSTAT',\n",
    "    'YRIMMIG',\n",
    "    'MARST',      # Marital status\n",
    "    \n",
    "    # family size\n",
    "    'FAMSIZE',    # Number of own family members in hh\n",
    "    'NCHILD',     # Number of own children in household\n",
    "    'NCHLT5',     # Number of own children under age 5 in hh\n",
    "    \n",
    "    # employment\n",
    "    'EMPSTAT',    # Employment status\n",
    "    'CLASSWKR',   # Class of worker\n",
    "    'UHRSWORKT',  # Hours usually worked per week at all jobs\n",
    "    \n",
    "    # education\n",
    "    'EDUC99',     # Educational attainment, 1990\n",
    "    'SCHLCOLL',\n",
    "    'PROFCERT',\n",
    "    \n",
    "    # difficulties\n",
    "    'DIFFHEAR',   # hearing\n",
    "    'DIFFEYE',    # vision\n",
    "    'DIFFREM',    # memory\n",
    "    'DIFFPHYS',   # physical\n",
    "    'DIFFMOB',    # limited mobility\n",
    "    'DIFFANY',    # any\n",
    "    \n",
    "    # live in-person performing arts attendance\n",
    "    # high-brow\n",
    "    'PBALLET',    # ballet\n",
    "    'PCLASS',     # classical music\n",
    "    'POPERA',     # opera\n",
    "    'PNMUS',      # nonmusical stage play\n",
    "    # popular\n",
    "    'PJAZZ',      # jazz\n",
    "    'PDANCE',     # dance, not ballet\n",
    "    'PMUSICAL',   # musical stage play or operetta\n",
    "    'PFESTIVAL',  # outdoor festival that featured performing artists\n",
    "    \n",
    "    # weight\n",
    "    'PASUPPWT'\n",
    "    \n",
    "]]\n",
    "\n",
    "data_selected.head()"
   ]
  },
  {
   "cell_type": "code",
   "execution_count": null,
   "id": "b24aa9f1",
   "metadata": {},
   "outputs": [],
   "source": [
    "# Keep PPA participants only\n",
    "df = data_selected[data_selected['PASUPPWT'] > 0].copy(deep=True)\n",
    "df.drop(columns=['PASUPPWT'], inplace=True)\n",
    "df.shape"
   ]
  },
  {
   "cell_type": "markdown",
   "id": "7b0cd705",
   "metadata": {},
   "source": [
    "## Clean and relabel the data"
   ]
  },
  {
   "cell_type": "markdown",
   "id": "c734ad3c",
   "metadata": {},
   "source": [
    "### Y"
   ]
  },
  {
   "cell_type": "code",
   "execution_count": null,
   "id": "7b99c5cd",
   "metadata": {},
   "outputs": [],
   "source": [
    "# Define variable groups\n",
    "highbrow_vars = [\n",
    "    'PBALLET',    # ballet\n",
    "    'PCLASS',     # classical music\n",
    "    'POPERA',     # opera\n",
    "    'PNMUS',      # nonmusical stage play\n",
    "]\n",
    "popular_vars = [\n",
    "    'PJAZZ',      # jazz\n",
    "    'PDANCE',     # dance, not ballet\n",
    "    'PMUSICAL',   # musical stage play or operetta\n",
    "    'PFESTIVAL'   # outdoor festival that featured performing artists\n",
    "]\n",
    "art_vars = highbrow_vars + popular_vars"
   ]
  },
  {
   "cell_type": "code",
   "execution_count": null,
   "id": "0be9c538",
   "metadata": {},
   "outputs": [],
   "source": [
    "# Remove rows with invalid responses\n",
    "df_clean = df[art_vars].apply(lambda row: row.isin([1, 2]).all(), axis=1)\n",
    "# print(f'{len(df) - df_clean.sum()} rows removed')\n",
    "df = df[df_clean].copy()\n",
    "df.shape"
   ]
  },
  {
   "cell_type": "code",
   "execution_count": null,
   "id": "eda414ee",
   "metadata": {},
   "outputs": [],
   "source": [
    "# Recode: 2 (Yes) → 1, 1 (No) → 0\n",
    "df[art_vars] = df[art_vars].replace({1: 0, 2: 1})"
   ]
  },
  {
   "cell_type": "code",
   "execution_count": null,
   "id": "eb392df2",
   "metadata": {},
   "outputs": [],
   "source": [
    "# Create ATTEND: 1 if any vars == 1, else 0\n",
    "df['ATTEND'] = (df[art_vars].sum(axis=1) > 0).astype(int)"
   ]
  },
  {
   "cell_type": "code",
   "execution_count": null,
   "id": "d3f96af5",
   "metadata": {},
   "outputs": [],
   "source": [
    "# Count attendance\n",
    "attendance_summary = {\n",
    "    'Any Performing Arts': df['ATTEND'].value_counts().sort_index()\n",
    "}\n",
    "\n",
    "# Label mapping\n",
    "attend_labels = {0: '0: Did Not Attend', 1: '1: Attended'}\n",
    "\n",
    "# Plot pie charts\n",
    "fig_class, ax = plt.subplots(figsize=(5, 5))\n",
    "title, counts = next(iter(attendance_summary.items()))\n",
    "counts.index = counts.index.map(attend_labels)\n",
    "counts.plot.pie(\n",
    "    ax=ax,\n",
    "    autopct='%1.1f%%',\n",
    "    startangle=90,\n",
    "    counterclock=False,\n",
    "    colors=['lightblue', 'gold'],\n",
    "    wedgeprops={'edgecolor': 'black'}\n",
    ")\n",
    "\n",
    "ax.set_title(title)\n",
    "ax.set_ylabel('')\n",
    "\n",
    "plt.tight_layout()\n",
    "plt.close()"
   ]
  },
  {
   "cell_type": "code",
   "execution_count": null,
   "id": "61e748a3",
   "metadata": {},
   "outputs": [],
   "source": [
    "df.drop(columns=art_vars, inplace=True)"
   ]
  },
  {
   "cell_type": "markdown",
   "id": "9516a7c9",
   "metadata": {},
   "source": [
    "### X"
   ]
  },
  {
   "cell_type": "code",
   "execution_count": null,
   "id": "dca5f486",
   "metadata": {},
   "outputs": [],
   "source": [
    "region_labels = {\n",
    "    11: 'New England',\n",
    "    12: 'Middle Atlantic',\n",
    "    21: 'East North Central',\n",
    "    22: 'West North Central',\n",
    "    31: 'South Atlantic',\n",
    "    32: 'East South Central',\n",
    "    33: 'West South Central',\n",
    "    41: 'Mountain',\n",
    "    42: 'Pacific',\n",
    "}\n",
    "\n",
    "df['REGION'] = df['REGION'].map(region_labels)"
   ]
  },
  {
   "cell_type": "code",
   "execution_count": null,
   "id": "51a272aa",
   "metadata": {},
   "outputs": [],
   "source": [
    "df['REGION'].value_counts(dropna=False)"
   ]
  },
  {
   "cell_type": "code",
   "execution_count": null,
   "id": "9e40c2fb",
   "metadata": {},
   "outputs": [],
   "source": [
    "statefip_labels = {\n",
    "    1: \"AL\",\n",
    "    2: \"AK\",\n",
    "    4: \"AZ\",\n",
    "    5: \"AR\",\n",
    "    6: \"CA\",\n",
    "    8: \"CO\",\n",
    "    9: \"CT\",\n",
    "    10: \"DE\",\n",
    "    11: \"DC\",\n",
    "    12: \"FL\",\n",
    "    13: \"GA\",\n",
    "    15: \"HI\",\n",
    "    16: \"ID\",\n",
    "    17: \"IL\",\n",
    "    18: \"IN\",\n",
    "    19: \"IA\",\n",
    "    20: \"KS\",\n",
    "    21: \"KY\",\n",
    "    22: \"LA\",\n",
    "    23: \"ME\",\n",
    "    24: \"MD\",\n",
    "    25: \"MA\",\n",
    "    26: \"MI\",\n",
    "    27: \"MN\",\n",
    "    28: \"MS\",\n",
    "    29: \"MO\",\n",
    "    30: \"MT\",\n",
    "    31: \"NE\",\n",
    "    32: \"NV\",\n",
    "    33: \"NH\",\n",
    "    34: \"NJ\",\n",
    "    35: \"NM\",\n",
    "    36: \"NY\",\n",
    "    37: \"NC\",\n",
    "    38: \"ND\",\n",
    "    39: \"OH\",\n",
    "    40: \"OK\",\n",
    "    41: \"OR\",\n",
    "    42: \"PA\",\n",
    "    44: \"RI\",\n",
    "    45: \"SC\",\n",
    "    46: \"SD\",\n",
    "    47: \"TN\",\n",
    "    48: \"TX\",\n",
    "    49: \"UT\",\n",
    "    50: \"VT\",\n",
    "    51: \"VA\",\n",
    "    53: \"WA\",\n",
    "    54: \"WV\",\n",
    "    55: \"WI\",\n",
    "    56: \"WY\",\n",
    "}\n",
    "\n",
    "df['STATEFIP'] = df['STATEFIP'].map(statefip_labels)"
   ]
  },
  {
   "cell_type": "code",
   "execution_count": null,
   "id": "1ac9175c",
   "metadata": {},
   "outputs": [],
   "source": [
    "df['STATEFIP'].value_counts(dropna=False)"
   ]
  },
  {
   "cell_type": "code",
   "execution_count": null,
   "id": "6b6d3746",
   "metadata": {},
   "outputs": [],
   "source": [
    "metro_labels = {\n",
    "    1: \"Not metropolitan\",\n",
    "    2: \"Central city\",\n",
    "    3: \"Not central city\",\n",
    "    4: \"Central city status not identified\",\n",
    "}\n",
    "\n",
    "df['METRO'] = df['METRO'].map(metro_labels)"
   ]
  },
  {
   "cell_type": "code",
   "execution_count": null,
   "id": "dd790efc",
   "metadata": {},
   "outputs": [],
   "source": [
    "df['METRO'].value_counts(dropna=False)"
   ]
  },
  {
   "cell_type": "code",
   "execution_count": null,
   "id": "e49947be",
   "metadata": {},
   "outputs": [],
   "source": [
    "faminc_labels = {\n",
    "    100: \"Under $5,000\",\n",
    "    210: \"$5,000 - 7,499\",\n",
    "    300: \"$7,500 - 9,999\",\n",
    "    430: \"$10,000 - 12,499\",\n",
    "    470: \"$12,500 - 14,999\",\n",
    "    500: \"$15,000 - 19,999\",\n",
    "    600: \"$20,000 - 24,999\",\n",
    "    710: \"$25,000 - 29,999\",\n",
    "    720: \"$30,000 - 34,999\",\n",
    "    730: \"$35,000 - 39,999\",\n",
    "    740: \"$40,000 - 49,999\",\n",
    "    820: \"$50,000 - 59,999\",\n",
    "    830: \"$60,000 - 74,999\",\n",
    "    841: \"$75,000 - 99,999\",\n",
    "    842: \"$100,000 - 149,999\",\n",
    "    843: \"$150,000 and over\",\n",
    "}\n",
    "\n",
    "faminc_ordered_labels = [\n",
    "    \"Under $5,000\",\n",
    "    \"$5,000 - 7,499\",\n",
    "    \"$7,500 - 9,999\",\n",
    "    \"$10,000 - 12,499\",\n",
    "    \"$12,500 - 14,999\",\n",
    "    \"$15,000 - 19,999\",\n",
    "    \"$20,000 - 24,999\",\n",
    "    \"$25,000 - 29,999\",\n",
    "    \"$30,000 - 34,999\",\n",
    "    \"$35,000 - 39,999\",\n",
    "    \"$40,000 - 49,999\",\n",
    "    \"$50,000 - 59,999\",\n",
    "    \"$60,000 - 74,999\",\n",
    "    \"$75,000 - 99,999\",\n",
    "    \"$100,000 - 149,999\",\n",
    "    \"$150,000 and over\"\n",
    "]\n",
    "\n",
    "faminc_ranked = {label: rank for rank, label in enumerate(faminc_ordered_labels)}\n",
    "\n",
    "df['FAMINC'] = df['FAMINC'].map(faminc_labels).map(faminc_ranked)"
   ]
  },
  {
   "cell_type": "code",
   "execution_count": null,
   "id": "7737dadc",
   "metadata": {},
   "outputs": [],
   "source": [
    "df['FAMINC'].value_counts(dropna=False)"
   ]
  },
  {
   "cell_type": "code",
   "execution_count": null,
   "id": "97a7a029",
   "metadata": {},
   "outputs": [],
   "source": [
    "sex_labels = {\n",
    "    1: 'Male', \n",
    "    2: 'Female'\n",
    "}\n",
    "\n",
    "df['SEX'] = df['SEX'].map(sex_labels)"
   ]
  },
  {
   "cell_type": "code",
   "execution_count": null,
   "id": "9c3658cc",
   "metadata": {},
   "outputs": [],
   "source": [
    "df['SEX'].value_counts(dropna=False)"
   ]
  },
  {
   "cell_type": "code",
   "execution_count": null,
   "id": "0104c8f6",
   "metadata": {},
   "outputs": [],
   "source": [
    "df['AGE'].describe()"
   ]
  },
  {
   "cell_type": "code",
   "execution_count": null,
   "id": "c33865f9",
   "metadata": {},
   "outputs": [],
   "source": [
    "race_labels = {\n",
    "    100: \"White\",\n",
    "    200: \"Black\",\n",
    "    300: \"American Indian/Aleut/Eskimo\",\n",
    "    651: \"Asian only\",\n",
    "    652: \"Hawaiian/Pacific Islander only\",\n",
    "    801: \"White-Black\",\n",
    "    802: \"White-American Indian\",\n",
    "    803: \"White-Asian\",\n",
    "    804: \"White-Hawaiian/Pacific Islander\",\n",
    "    805: \"Black-American Indian\",\n",
    "    806: \"Black-Asian\",\n",
    "    807: \"Black-Hawaiian/Pacific Islander\",\n",
    "    808: \"American Indian-Asian\",\n",
    "    809: \"Asian-Hawaiian/Pacific Islander\",\n",
    "    810: \"White-Black-American Indian\",\n",
    "    811: \"White-Black-Asian\",\n",
    "    812: \"White-American Indian-Asian\",\n",
    "    813: \"White-Asian-Hawaiian/Pacific Islander\",\n",
    "    814: \"White-Black-American Indian-Asian\",\n",
    "    815: \"American Indian-Hawaiian/Pacific Islander\",\n",
    "    816: \"White-Black--Hawaiian/Pacific Islander\",\n",
    "    817: \"White-American Indian-Hawaiian/Pacific Islander\",\n",
    "    818: \"Black-American Indian-Asian\",\n",
    "    819: \"White-American Indian-Asian-Hawaiian/Pacific Islander\"\n",
    "}\n",
    "\n",
    "df['RACE'] = df['RACE'].map(race_labels)\n",
    "\n",
    "df['RACE'] = df['RACE'].apply(lambda x: x if x in ['White', 'Black', 'Asian only'] or pd.isna(x) else 'Other')"
   ]
  },
  {
   "cell_type": "code",
   "execution_count": null,
   "id": "e6be7d4f",
   "metadata": {},
   "outputs": [],
   "source": [
    "df['RACE'].value_counts(dropna=False)"
   ]
  },
  {
   "cell_type": "code",
   "execution_count": null,
   "id": "cf08d428",
   "metadata": {},
   "outputs": [],
   "source": [
    "hispan_labels = {\n",
    "    0: \"Not Hispanic\",\n",
    "    100: \"Mexican\",\n",
    "    102: \"Mexican American\",\n",
    "    103: \"Mexicano/Mexicana\",\n",
    "    104: \"Chicano/Chicana\",\n",
    "    108: \"Mexican (Mexicano)\",\n",
    "    109: \"Mexicano/Chicano\",\n",
    "    200: \"Puerto Rican\",\n",
    "    300: \"Cuban\",\n",
    "    400: \"Dominican\",\n",
    "    500: \"Salvadoran\",\n",
    "    600: \"Other Hispanic\",\n",
    "    610: \"Central/South American\",\n",
    "    611: \"Central American, (excluding Salvadoran)\",\n",
    "    612: \"South American\",\n",
    "}\n",
    "\n",
    "df['HISPAN'] = df['HISPAN'].map(hispan_labels)\n",
    "\n",
    "df['HISPAN'] = df['HISPAN'].apply(lambda x: x if x == \"Not Hispanic\" or pd.isna(x) else \"Hispanic\")"
   ]
  },
  {
   "cell_type": "code",
   "execution_count": null,
   "id": "21fbf1de",
   "metadata": {},
   "outputs": [],
   "source": [
    "df['HISPAN'].value_counts(dropna=False)"
   ]
  },
  {
   "cell_type": "code",
   "execution_count": null,
   "id": "d61e4924",
   "metadata": {},
   "outputs": [],
   "source": [
    "vetstat_labels = {\n",
    "    0: \"NIU\",\n",
    "    1: \"No service\",\n",
    "    2: \"Yes\"\n",
    "}\n",
    "\n",
    "df['VETSTAT'] = df['VETSTAT'].map(vetstat_labels)"
   ]
  },
  {
   "cell_type": "code",
   "execution_count": null,
   "id": "eed2d332",
   "metadata": {},
   "outputs": [],
   "source": [
    "df['VETSTAT'].value_counts(dropna=False)"
   ]
  },
  {
   "cell_type": "code",
   "execution_count": null,
   "id": "1d49a61b",
   "metadata": {},
   "outputs": [],
   "source": [
    "df['IMMIG'] = df['YRIMMIG'].apply(lambda x: 1 if pd.notna(x) and x > 0 else 0)"
   ]
  },
  {
   "cell_type": "code",
   "execution_count": null,
   "id": "fc0044ca",
   "metadata": {},
   "outputs": [],
   "source": [
    "df['IMMIG'].value_counts(dropna=False)"
   ]
  },
  {
   "cell_type": "code",
   "execution_count": null,
   "id": "83e7df02",
   "metadata": {},
   "outputs": [],
   "source": [
    "marst_labels = {\n",
    "    1: \"Married, spouse present\",\n",
    "    2: \"Married, spouse absent\",\n",
    "    3: \"Separated\",\n",
    "    4: \"Divorced\",\n",
    "    5: \"Widowed\",\n",
    "    6: \"Never married/single\"\n",
    "}\n",
    "\n",
    "df['MARST'] = df['MARST'].map(marst_labels)"
   ]
  },
  {
   "cell_type": "code",
   "execution_count": null,
   "id": "1f1ae3d6",
   "metadata": {},
   "outputs": [],
   "source": [
    "df['MARST'].value_counts(dropna=False)"
   ]
  },
  {
   "cell_type": "code",
   "execution_count": null,
   "id": "b5bdeb33",
   "metadata": {},
   "outputs": [],
   "source": [
    "df['FAMSIZE'].describe()"
   ]
  },
  {
   "cell_type": "code",
   "execution_count": null,
   "id": "f6034618",
   "metadata": {},
   "outputs": [],
   "source": [
    "df['NCHILD'].describe()"
   ]
  },
  {
   "cell_type": "code",
   "execution_count": null,
   "id": "3d7c564b",
   "metadata": {},
   "outputs": [],
   "source": [
    "df['NCHLT5'].describe()"
   ]
  },
  {
   "cell_type": "code",
   "execution_count": null,
   "id": "2945778a",
   "metadata": {},
   "outputs": [],
   "source": [
    "empstat_labels = {\n",
    "    1: \"Armed Forces\",\n",
    "    10: \"At work\",\n",
    "    12: \"Has job, not at work last week\",\n",
    "    21: \"Unemployed, experienced worker\",\n",
    "    22: \"Unemployed, new worker\",\n",
    "    32: \"NILF, unable to work\",\n",
    "    34: \"NILF, other\",\n",
    "    36: \"NILF, retired\"\n",
    "}\n",
    "\n",
    "df['EMPSTAT'] = df['EMPSTAT'].map(empstat_labels)"
   ]
  },
  {
   "cell_type": "code",
   "execution_count": null,
   "id": "415956d3",
   "metadata": {},
   "outputs": [],
   "source": [
    "df['EMPSTAT'].value_counts(dropna=False)"
   ]
  },
  {
   "cell_type": "code",
   "execution_count": null,
   "id": "cd151bc7",
   "metadata": {},
   "outputs": [],
   "source": [
    "classwkr_labels = {\n",
    "    0: \"NIU\",\n",
    "    13: \"Self-employed, not incorporated\",\n",
    "    14: \"Self-employed, incorporated\",\n",
    "    22: \"Private, for profit\",\n",
    "    23: \"Private, nonprofit\",\n",
    "    25: \"Federal government employee\",\n",
    "    26: \"Armed forces\",\n",
    "    27: \"State government employee\",\n",
    "    28: \"Local government employee\",\n",
    "    29: \"Unpaid family worker\"\n",
    "}\n",
    "\n",
    "df['CLASSWKR'] = df['CLASSWKR'].map(classwkr_labels)"
   ]
  },
  {
   "cell_type": "code",
   "execution_count": null,
   "id": "eeaefc64",
   "metadata": {},
   "outputs": [],
   "source": [
    "df['CLASSWKR'].value_counts(dropna=False)"
   ]
  },
  {
   "cell_type": "code",
   "execution_count": null,
   "id": "05527909",
   "metadata": {},
   "outputs": [],
   "source": [
    "df['UHRSWORKT'].describe()"
   ]
  },
  {
   "cell_type": "code",
   "execution_count": null,
   "id": "06ea1548",
   "metadata": {},
   "outputs": [],
   "source": [
    "df.loc[df['UHRSWORKT'] >= 997, 'UHRSWORKT'] = 0"
   ]
  },
  {
   "cell_type": "code",
   "execution_count": null,
   "id": "c0d37c41",
   "metadata": {},
   "outputs": [],
   "source": [
    "df['UHRSWORKT'].describe()"
   ]
  },
  {
   "cell_type": "code",
   "execution_count": null,
   "id": "cbbcbb41",
   "metadata": {},
   "outputs": [],
   "source": [
    "educ99_labels = {\n",
    "    0: 'NIU',\n",
    "    1: 'No school',\n",
    "    4: '1st-4th',\n",
    "    5: '5th-8th',\n",
    "    6: '9th',\n",
    "    7: '10th',\n",
    "    8: '11th',\n",
    "    9: '12th, no diploma',\n",
    "    10: 'High school/GED',\n",
    "    11: 'Some college',\n",
    "    12: 'Associate',\n",
    "    13: 'Associate, occupational',\n",
    "    14: 'Associate, academic',\n",
    "    15: 'Bachelors',\n",
    "    16: 'Masters',\n",
    "    17: 'Professional',\n",
    "    18: 'Doctorate'\n",
    "}\n",
    "educ99y_labels = {\n",
    "    'NIU': 0,\n",
    "    'No school': 0,\n",
    "    '1st-4th': 2.5,\n",
    "    '5th-8th': 6.5,\n",
    "    '9th': 9,\n",
    "    '10th': 10,\n",
    "    '11th': 11,\n",
    "    '12th, no diploma': 12,\n",
    "    'High school/GED': 12,\n",
    "    'Some college': 13,\n",
    "    'Associate': 14,\n",
    "    'Associate, occupational': 14,\n",
    "    'Associate, academic': 14,\n",
    "    'Bachelors': 16,\n",
    "    'Masters': 18,\n",
    "    'Professional': 20,\n",
    "    'Doctorate': 22\n",
    "}\n",
    "educ99c_labels = {\n",
    "    'NIU': 'Less than HS',\n",
    "    'No school': 'Less than HS',\n",
    "    '1st-4th': 'Less than HS',\n",
    "    '5th-8th': 'Less than HS',\n",
    "    '9th': 'Less than HS',\n",
    "    '10th': 'Less than HS',\n",
    "    '11th': 'Less than HS',\n",
    "    '12th, no diploma': 'Less than HS',\n",
    "    'High school/GED': 'High school',\n",
    "    'Some college': 'Some college',\n",
    "    'Associate': 'Associate',\n",
    "    'Associate, occupational': 'Associate',\n",
    "    'Associate, academic': 'Associate',\n",
    "    'Bachelors': 'Bachelors',\n",
    "    'Masters': 'Masters',\n",
    "    'Professional': 'Professional',\n",
    "    'Doctorate': 'Doctorate'\n",
    "}\n",
    "\n",
    "df['EDUC99'] = df['EDUC99'].map(educ99_labels)\n",
    "df['EDUC99Y'] = df['EDUC99'].map(educ99y_labels)\n",
    "df['EDUC99'] = df['EDUC99'].map(educ99c_labels)"
   ]
  },
  {
   "cell_type": "code",
   "execution_count": null,
   "id": "43454d99",
   "metadata": {},
   "outputs": [],
   "source": [
    "df['EDUC99'].value_counts(dropna=False)"
   ]
  },
  {
   "cell_type": "code",
   "execution_count": null,
   "id": "54072ac3",
   "metadata": {},
   "outputs": [],
   "source": [
    "df['EDUC99Y'].describe()"
   ]
  },
  {
   "cell_type": "code",
   "execution_count": null,
   "id": "55de18ac",
   "metadata": {},
   "outputs": [],
   "source": [
    "schlcoll_labels = {\n",
    "    0: \"NIU\",\n",
    "    1: \"High school FT\",\n",
    "    2: \"High school PT\",\n",
    "    3: \"College FT\",\n",
    "    4: \"College PT\",\n",
    "    5: \"Not attend school\"\n",
    "}\n",
    "\n",
    "df['SCHLCOLL'] = df['SCHLCOLL'].map(schlcoll_labels)"
   ]
  },
  {
   "cell_type": "code",
   "execution_count": null,
   "id": "4f82a356",
   "metadata": {},
   "outputs": [],
   "source": [
    "df['SCHLCOLL'].value_counts(dropna=False)"
   ]
  },
  {
   "cell_type": "code",
   "execution_count": null,
   "id": "ad6753da",
   "metadata": {},
   "outputs": [],
   "source": [
    "profcert_labels = {\n",
    "    1: 0,\n",
    "    2: 1\n",
    "}\n",
    "\n",
    "df['PROFCERT'] = df['PROFCERT'].map(profcert_labels)"
   ]
  },
  {
   "cell_type": "code",
   "execution_count": null,
   "id": "19999095",
   "metadata": {},
   "outputs": [],
   "source": [
    "df['PROFCERT'].value_counts(dropna=False)"
   ]
  },
  {
   "cell_type": "code",
   "execution_count": null,
   "id": "b3fedf49",
   "metadata": {},
   "outputs": [],
   "source": [
    "diff_vars = ['DIFFHEAR', 'DIFFEYE', 'DIFFREM', 'DIFFPHYS', 'DIFFMOB', 'DIFFANY']\n",
    "diff_labels = {\n",
    "    0: 'NIU', \n",
    "    1: 'No difficulty', \n",
    "    2: 'Has difficulty'\n",
    "}\n",
    "\n",
    "for var in diff_vars:\n",
    "    df[var] = df[var].map(diff_labels)"
   ]
  },
  {
   "cell_type": "code",
   "execution_count": null,
   "id": "79aa168f",
   "metadata": {},
   "outputs": [],
   "source": []
  },
  {
   "cell_type": "code",
   "execution_count": null,
   "id": "e26ce2c2",
   "metadata": {},
   "outputs": [],
   "source": [
    "df.reset_index(drop=True, inplace=True)"
   ]
  },
  {
   "cell_type": "code",
   "execution_count": null,
   "id": "527a05f2",
   "metadata": {},
   "outputs": [],
   "source": []
  },
  {
   "cell_type": "markdown",
   "id": "a5081a54",
   "metadata": {},
   "source": [
    "## Descriptive Stats"
   ]
  },
  {
   "cell_type": "code",
   "execution_count": null,
   "id": "4e3de6dc",
   "metadata": {},
   "outputs": [],
   "source": [
    "def compute_ci(x):\n",
    "    \"\"\"Compute statistics and confidence interval.\"\"\"\n",
    "    x = x.dropna()\n",
    "    n = len(x)\n",
    "    mean = x.mean()\n",
    "    sd = x.std(ddof=1)\n",
    "    se = sd / np.sqrt(n)\n",
    "    ci = stats.t.interval(0.95, df=n-1, loc=mean, scale=se) if n > 1 else (np.nan, np.nan)\n",
    "    return pd.Series({\n",
    "        'mean': mean * 100,\n",
    "        'se': se * 100,\n",
    "        'n': n,\n",
    "        'ci_lower': ci[0] * 100,\n",
    "        'ci_upper': ci[1] * 100\n",
    "    })"
   ]
  },
  {
   "cell_type": "code",
   "execution_count": null,
   "id": "d814cf2c",
   "metadata": {},
   "outputs": [],
   "source": [
    "df2 = df.copy(deep=True)"
   ]
  },
  {
   "cell_type": "code",
   "execution_count": null,
   "id": "e4e3f99f",
   "metadata": {},
   "outputs": [],
   "source": [
    "compute_ci(df2['ATTEND']).to_frame().T"
   ]
  },
  {
   "cell_type": "code",
   "execution_count": null,
   "id": "a69350ad",
   "metadata": {},
   "outputs": [],
   "source": [
    "df2.groupby('FAMINC')['ATTEND'].apply(compute_ci).reset_index().pivot(\n",
    "    index='FAMINC', columns='level_1', values='ATTEND').reset_index()"
   ]
  },
  {
   "cell_type": "code",
   "execution_count": null,
   "id": "5e73893f",
   "metadata": {},
   "outputs": [],
   "source": [
    "df2.groupby('SEX')['ATTEND'].apply(compute_ci).reset_index().pivot(\n",
    "    index='SEX', columns='level_1', values='ATTEND').reset_index()"
   ]
  },
  {
   "cell_type": "code",
   "execution_count": null,
   "id": "54d0effe",
   "metadata": {},
   "outputs": [],
   "source": [
    "df2['AGE_GROUP'] = pd.cut(\n",
    "    df2['AGE'],\n",
    "    bins=[17, 24, 44, 64, np.inf],  # boundaries: (17,24], (24,44], etc.\n",
    "    labels=['18–24', '25–44', '45–64', '65+'],\n",
    "    right=True,  # intervals are right-closed by default\n",
    "    include_lowest=False\n",
    ")\n",
    "\n",
    "df2.groupby('AGE_GROUP')['ATTEND'].apply(compute_ci).reset_index().pivot(\n",
    "    index='AGE_GROUP', columns='level_1', values='ATTEND').reset_index()"
   ]
  },
  {
   "cell_type": "code",
   "execution_count": null,
   "id": "9042fee6",
   "metadata": {},
   "outputs": [],
   "source": [
    "df2.groupby('RACE')['ATTEND'].apply(compute_ci).reset_index().pivot(\n",
    "    index='RACE', columns='level_1', values='ATTEND').reset_index()"
   ]
  },
  {
   "cell_type": "code",
   "execution_count": null,
   "id": "8fe81cc8",
   "metadata": {},
   "outputs": [],
   "source": [
    "df2.groupby('EDUC99')['ATTEND'].apply(compute_ci).reset_index().pivot(\n",
    "    index='EDUC99', columns='level_1', values='ATTEND').reset_index()"
   ]
  },
  {
   "cell_type": "code",
   "execution_count": null,
   "id": "b0c171e7",
   "metadata": {},
   "outputs": [],
   "source": []
  }
 ],
 "metadata": {
  "kernelspec": {
   "display_name": "Python 3 (ipykernel)",
   "language": "python",
   "name": "python3"
  },
  "language_info": {
   "codemirror_mode": {
    "name": "ipython",
    "version": 3
   },
   "file_extension": ".py",
   "mimetype": "text/x-python",
   "name": "python",
   "nbconvert_exporter": "python",
   "pygments_lexer": "ipython3",
   "version": "3.11.6"
  }
 },
 "nbformat": 4,
 "nbformat_minor": 5
}
